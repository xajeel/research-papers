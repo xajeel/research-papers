{
  "nbformat": 4,
  "nbformat_minor": 0,
  "metadata": {
    "colab": {
      "provenance": [],
      "gpuType": "T4"
    },
    "kernelspec": {
      "name": "python3",
      "display_name": "Python 3"
    },
    "language_info": {
      "name": "python"
    },
    "accelerator": "GPU"
  },
  "cells": [
    {
      "cell_type": "code",
      "execution_count": null,
      "metadata": {
        "id": "M9-kt5wBmvbP"
      },
      "outputs": [],
      "source": [
        "import torch\n",
        "from torch import nn\n",
        "from torch.nn import Module\n",
        "import torchvision\n",
        "from torchvision import transforms, datasets\n",
        "from torch.utils.data import DataLoader"
      ]
    },
    {
      "cell_type": "markdown",
      "source": [
        "# DATA LOADING"
      ],
      "metadata": {
        "id": "9sUMEEKp7gTv"
      }
    },
    {
      "cell_type": "code",
      "source": [
        "# Loading Data\n",
        "\n",
        "transform_train = transforms.Compose([\n",
        "    transforms.RandomCrop(32, padding=4),\n",
        "    transforms.RandomHorizontalFlip(),\n",
        "    transforms.ToTensor(),\n",
        "    transforms.Normalize((0.4914, 0.4822, 0.4465), (0.2023, 0.1994, 0.2010)),\n",
        "])\n",
        "\n",
        "transform_test = transforms.Compose([\n",
        "    transforms.ToTensor(),\n",
        "    transforms.Normalize((0.4914, 0.4822, 0.4465), (0.2023, 0.1994, 0.2010)),\n",
        "])\n",
        "\n",
        "train_data = datasets.CIFAR10(root='.', train='True', transform=transform_train, download=True)\n",
        "test_data = datasets.CIFAR10(root='.', train='False', transform=transform_test, download=True)"
      ],
      "metadata": {
        "colab": {
          "base_uri": "https://localhost:8080/"
        },
        "id": "VJp-94yem3jb",
        "outputId": "33b9d3f1-d07a-484f-b53c-9afcf7302f0f"
      },
      "execution_count": null,
      "outputs": [
        {
          "output_type": "stream",
          "name": "stdout",
          "text": [
            "Downloading https://www.cs.toronto.edu/~kriz/cifar-10-python.tar.gz to ./cifar-10-python.tar.gz\n"
          ]
        },
        {
          "output_type": "stream",
          "name": "stderr",
          "text": [
            "100%|██████████| 170498071/170498071 [00:04<00:00, 41445688.78it/s]\n"
          ]
        },
        {
          "output_type": "stream",
          "name": "stdout",
          "text": [
            "Extracting ./cifar-10-python.tar.gz to .\n",
            "Files already downloaded and verified\n"
          ]
        }
      ]
    },
    {
      "cell_type": "code",
      "source": [
        "# Creating Data Loader\n",
        "BATCH_SIZE = 128\n",
        "train_loader = DataLoader(dataset=train_data, batch_size=BATCH_SIZE, shuffle='True')\n",
        "test_loader = DataLoader(dataset=test_data, batch_size=BATCH_SIZE, shuffle='False')"
      ],
      "metadata": {
        "id": "_eVa47xoE4es"
      },
      "execution_count": null,
      "outputs": []
    },
    {
      "cell_type": "markdown",
      "source": [
        "#NEW RESNET CODE"
      ],
      "metadata": {
        "id": "mqoBlaq33iGB"
      }
    },
    {
      "cell_type": "code",
      "source": [
        "class ShotcutConnection(Module):\n",
        "  def __init__(self, in_channel, out_channel, stride):\n",
        "    super().__init__()\n",
        "\n",
        "    self.conv = nn.Conv2d(in_channel, out_channel, kernel_size=1, stride=stride)\n",
        "    self.bn = nn.BatchNorm2d(out_channel)\n",
        "\n",
        "  def forward(self, x):\n",
        "    x = self.bn(self.conv(x))\n",
        "    return x\n"
      ],
      "metadata": {
        "id": "r8ENCDdg3k_g"
      },
      "execution_count": null,
      "outputs": []
    },
    {
      "cell_type": "code",
      "source": [
        "class ResidualBlock(Module):\n",
        "  def __init__(self, in_channel, out_channel, stride):\n",
        "    super().__init__()\n",
        "    self.conv1 = nn.Conv2d(in_channel, out_channel, kernel_size=3, stride = stride, padding=1)\n",
        "    self.bn1 = nn.BatchNorm2d(out_channel)\n",
        "    self.relu = nn.ReLU(inplace=True)\n",
        "\n",
        "    self.conv2 = nn.Conv2d(out_channel, out_channel, kernel_size=3, stride= 1, padding = 1)\n",
        "    self.bn2 = nn.BatchNorm2d(out_channel)\n",
        "    self.relu2 = nn.ReLU(inplace=True)\n",
        "\n",
        "    if stride != 1 or in_channel != out_channel:\n",
        "      self.shortcut = ShotcutConnection(in_channel, out_channel, stride)\n",
        "    else:\n",
        "      self.shortcut = nn.Identity()\n",
        "\n",
        "  def forward(self, x):\n",
        "    shortcut = self.shortcut(x)\n",
        "\n",
        "    x = self.relu(self.bn1(self.conv1(x)))\n",
        "    x = self.bn2(self.conv2(x))\n",
        "    x = self.relu2(x + shortcut)\n",
        "\n",
        "    return x\n"
      ],
      "metadata": {
        "id": "vnNy9_2c5GEV"
      },
      "execution_count": null,
      "outputs": []
    },
    {
      "cell_type": "code",
      "source": [
        "class BottleneckBlock(Module):\n",
        "  def __init__(self, in_channel, out_channel, stride):\n",
        "    super().__init__()\n",
        "    self.conv1 = nn.Conv2d(in_channel, out_channel,kernel_size=1 ,stride=1, padding=0)\n",
        "    self.bn1 = nn.BatchNorm2d(out_channel)\n",
        "    self.relu1 = nn.ReLU()\n",
        "\n",
        "    self.conv2 = nn.Conv2d(out_channel, out_channel, kernel_size=3 ,stride=stride, padding=1)\n",
        "    self.bn2 = nn.BatchNorm2d(out_channel)\n",
        "    self.relu2 = nn.ReLU()\n",
        "\n",
        "    self.conv3 = nn.Conv2d(out_channel, out_channel*4, kernel_size=1 ,stride= 1, padding=0)\n",
        "    self.bn3 = nn.BatchNorm2d(out_channel*4)\n",
        "    self.relu3 = nn.ReLU()\n",
        "\n",
        "    if stride != 1 or in_channel != out_channel*4:\n",
        "      self.shortcut = nn.Sequential(\n",
        "          nn.Conv2d(in_channel, out_channel * 4, kernel_size=1, stride=stride),\n",
        "          nn.BatchNorm2d(out_channel * 4) )\n",
        "    else:\n",
        "      self.shortcut = nn.Identity()\n",
        "\n",
        "  def forward(self, x):\n",
        "    shortcut = self.shortcut(x)\n",
        "\n",
        "    x = self.relu1(self.bn1(self.conv1(x)))\n",
        "    x = self.relu2(self.bn2(self.conv2(x)))\n",
        "    x = self.bn3(self.conv3(x))\n",
        "    x = self.relu3(x + shortcut)\n",
        "\n",
        "    return x\n"
      ],
      "metadata": {
        "id": "DmiprdZGRGrR"
      },
      "execution_count": null,
      "outputs": []
    },
    {
      "cell_type": "code",
      "source": [
        "class ResNET(Module):\n",
        "  def __init__(self):\n",
        "    super().__init__()\n",
        "\n",
        "    self.conv1 = nn.Conv2d(3, 64, kernel_size=7, stride=2, padding= 7//2)\n",
        "    self.bn = nn.BatchNorm2d(64)\n",
        "    self.relu = nn.ReLU()\n",
        "    self.mp = nn.MaxPool2d(3, 2)\n",
        "\n",
        "    self.stage1 = nn.Sequential(\n",
        "        BottleneckBlock(64, 64, stride=1),\n",
        "        BottleneckBlock(256, 64, stride=1),\n",
        "        BottleneckBlock(256, 64, stride=1),\n",
        "    )\n",
        "\n",
        "    self.stage2 = nn.Sequential(\n",
        "        BottleneckBlock(256, 128, stride=2),\n",
        "        BottleneckBlock(512, 128, stride=1),\n",
        "        BottleneckBlock(512, 128, stride=1),\n",
        "        BottleneckBlock(512, 128, stride=1)\n",
        "    )\n",
        "\n",
        "    self.stage3 = nn.Sequential(\n",
        "        BottleneckBlock(512, 256, stride=2),\n",
        "        BottleneckBlock(1024, 256, stride=1),\n",
        "        BottleneckBlock(1024, 256, stride=1),\n",
        "        BottleneckBlock(1024, 256, stride=1),\n",
        "        BottleneckBlock(1024, 256, stride=1),\n",
        "        BottleneckBlock(1024, 256, stride=1)\n",
        "    )\n",
        "\n",
        "    self.stage4 = nn.Sequential(\n",
        "        BottleneckBlock(1024, 512, stride=2),\n",
        "        BottleneckBlock(2048, 512, stride=1),\n",
        "        BottleneckBlock(2048, 512, stride=1)\n",
        "    )\n",
        "\n",
        "    self.avgpool = nn.AdaptiveAvgPool2d((1,1))\n",
        "    self.fc = nn.Linear(2048, 10)\n",
        "\n",
        "  def forward(self, x):\n",
        "    x = self.relu(self.bn(self.conv1(x)))\n",
        "    x = self.mp(x)\n",
        "    x = self.stage1(x)\n",
        "    x = self.stage2(x)\n",
        "    x = self.stage3(x)\n",
        "    x = self.stage4(x)\n",
        "\n",
        "    x = self.avgpool(x)\n",
        "    x = torch.flatten(x, 1)\n",
        "    x = self.fc(x)\n",
        "\n",
        "    return x\n"
      ],
      "metadata": {
        "id": "cCYvssyi-2_7"
      },
      "execution_count": null,
      "outputs": []
    },
    {
      "cell_type": "code",
      "source": [
        "model = ResNET()"
      ],
      "metadata": {
        "id": "QT-ukSqoZfMq"
      },
      "execution_count": null,
      "outputs": []
    },
    {
      "cell_type": "markdown",
      "source": [
        "#TRAINING FUNCTIONS"
      ],
      "metadata": {
        "id": "r87qAAAr3lWD"
      }
    },
    {
      "cell_type": "code",
      "source": [
        "optimizer = torch.optim.Adam(model.parameters(), lr=1e-4)\n",
        "criterion = nn.CrossEntropyLoss()\n",
        "\n",
        "device = 'cuda' if torch.cuda.is_available() else 'cpu'\n",
        "model.to(device)\n",
        "device"
      ],
      "metadata": {
        "colab": {
          "base_uri": "https://localhost:8080/",
          "height": 36
        },
        "id": "VGQC-oQtnUpD",
        "outputId": "00f9e85f-a4d0-4dbf-ceb6-0638ed881ce4"
      },
      "execution_count": null,
      "outputs": [
        {
          "output_type": "execute_result",
          "data": {
            "text/plain": [
              "'cuda'"
            ],
            "application/vnd.google.colaboratory.intrinsic+json": {
              "type": "string"
            }
          },
          "metadata": {},
          "execution_count": 18
        }
      ]
    },
    {
      "cell_type": "code",
      "source": [
        "def train_loop(model, train_loader, optimizer, loss_fun, device):\n",
        "    model.train()  # Set model to training mode\n",
        "    train_loss, correct_preds = 0, 0\n",
        "    total_samples = 0\n",
        "\n",
        "    for x, y in train_loader:\n",
        "        x, y = x.to(device), y.to(device)\n",
        "\n",
        "        # Forward pass\n",
        "        y_pred = model(x)\n",
        "\n",
        "        # Compute loss\n",
        "        loss = loss_fun(y_pred, y)\n",
        "        train_loss += loss.item()\n",
        "\n",
        "        # Backward pass and optimize\n",
        "        optimizer.zero_grad()\n",
        "        loss.backward()\n",
        "        optimizer.step()\n",
        "\n",
        "        # Compute accuracy\n",
        "        correct_preds += (y_pred.argmax(dim=1) == y).sum().item()\n",
        "        total_samples += y.size(0)\n",
        "\n",
        "    avg_loss = train_loss / len(train_loader)\n",
        "    avg_acc = correct_preds / total_samples  # Accuracy over all samples\n",
        "\n",
        "    return avg_loss, avg_acc\n",
        "\n",
        "def test_loop(model, test_loader, loss_fun, device):\n",
        "    model.eval()  # Set model to evaluation mode\n",
        "    test_loss, correct_preds = 0, 0\n",
        "    total_samples = 0\n",
        "\n",
        "    with torch.no_grad():  # Disable gradient calculation for evaluation\n",
        "        for x_test, y_test in test_loader:\n",
        "            x_test, y_test = x_test.to(device), y_test.to(device)\n",
        "\n",
        "            # Forward pass\n",
        "            y_test_pred = model(x_test)\n",
        "\n",
        "            # Compute loss\n",
        "            loss = loss_fun(y_test_pred, y_test)\n",
        "            test_loss += loss.item()\n",
        "\n",
        "            # Compute accuracy\n",
        "            correct_preds += (y_test_pred.argmax(dim=1) == y_test).sum().item()\n",
        "            total_samples += y_test.size(0)\n",
        "\n",
        "    avg_loss = test_loss / len(test_loader)\n",
        "    avg_acc = correct_preds / total_samples  # Accuracy over all samples\n",
        "\n",
        "    return avg_loss, avg_acc\n"
      ],
      "metadata": {
        "id": "H7HOidxYLQBg"
      },
      "execution_count": null,
      "outputs": []
    },
    {
      "cell_type": "code",
      "source": [
        "from tqdm import tqdm\n",
        "\n",
        "def train(epochs, model, train_loader, test_loader, optimizer, loss_fun, device):\n",
        "    result = {\n",
        "        'train_loss': [],\n",
        "        'train_acc': [],\n",
        "        'test_loss': [],\n",
        "        'test_acc': []\n",
        "    }\n",
        "\n",
        "    for epoch in tqdm(range(epochs)):\n",
        "        # Train and evaluate the model\n",
        "        train_loss, train_acc = train_loop(model, train_loader, optimizer, loss_fun, device)\n",
        "        test_loss, test_acc = test_loop(model, test_loader, loss_fun, device)\n",
        "\n",
        "        # Store results\n",
        "        result['train_loss'].append(train_loss)\n",
        "        result['train_acc'].append(train_acc)\n",
        "        result['test_loss'].append(test_loss)\n",
        "        result['test_acc'].append(test_acc)\n",
        "\n",
        "        # Display the results for the current epoch\n",
        "        print(f'Epoch {epoch+1}/{epochs} | '\n",
        "              f'Train Loss: {train_loss:.4f} | Train Acc: {train_acc:.4f} | '\n",
        "              f'Test Loss: {test_loss:.4f} | Test Acc: {test_acc:.4f}')\n",
        "\n",
        "    return result\n"
      ],
      "metadata": {
        "id": "iuYHx1H6oB0E"
      },
      "execution_count": null,
      "outputs": []
    },
    {
      "cell_type": "code",
      "source": [
        "output = train(2,model,train_loader, test_loader, optimizer, criterion, device)"
      ],
      "metadata": {
        "colab": {
          "base_uri": "https://localhost:8080/"
        },
        "id": "fpHaqTykoL5K",
        "outputId": "7bb45820-229c-4199-e9ef-c36a0a9ae064"
      },
      "execution_count": null,
      "outputs": [
        {
          "output_type": "stream",
          "name": "stderr",
          "text": [
            " 50%|█████     | 1/2 [01:05<01:05, 65.14s/it]"
          ]
        },
        {
          "output_type": "stream",
          "name": "stdout",
          "text": [
            "Epoch 1/2 | Train Loss: 2.0578 | Train Acc: 0.2496 | Test Loss: 1.7761 | Test Acc: 0.3496\n"
          ]
        },
        {
          "output_type": "stream",
          "name": "stderr",
          "text": [
            "100%|██████████| 2/2 [02:09<00:00, 64.74s/it]"
          ]
        },
        {
          "output_type": "stream",
          "name": "stdout",
          "text": [
            "Epoch 2/2 | Train Loss: 1.7376 | Train Acc: 0.3629 | Test Loss: 1.5870 | Test Acc: 0.4235\n"
          ]
        },
        {
          "output_type": "stream",
          "name": "stderr",
          "text": [
            "\n"
          ]
        }
      ]
    }
  ]
}